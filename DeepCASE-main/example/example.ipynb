{
 "cells": [
  {
   "cell_type": "code",
   "execution_count": 1,
   "metadata": {},
   "outputs": [],
   "source": [
    "# Other imports\n",
    "import numpy as np\n",
    "import torch\n",
    "import sys\n",
    "from sklearn.metrics import classification_report\n",
    "from sklearn.model_selection import train_test_split\n",
    "\n",
    "from collections import Counter\n",
    "import pdb\n",
    "sys.path.append('..')\n",
    "\n",
    "# DeepCASE Imports\n",
    "from deepcase.preprocessing   import Preprocessor\n",
    "from deepcase.context_builder import ContextBuilder\n",
    "from deepcase.interpreter     import Interpreter\n",
    "\n",
    "import matplotlib.pyplot as plt\n",
    "\n",
    "\n",
    "\n",
    "DEBUG = True\n",
    "context_length = 50\n",
    "\n",
    "if DEBUG:\n",
    "    config = {\n",
    "    'learning_rates': [0.001],\n",
    "    'eps':            [0.2],        # Epsilon value to use for DBSCAN clustering, in paper this was 0.1 \n",
    "    'threshold':      [0.2]\n",
    "    }\n",
    "    Epochs = 2\n",
    "else:\n",
    "    config = {\n",
    "        'learning_rates': [0.001,0.0001,0.00001],\n",
    "        'eps':            [0.3,0.2,0.15,0.1],        # Epsilon value to use for DBSCAN clustering, in paper this was 0.1 \n",
    "        'threshold':      [0.2,0.15,0.1,0.05,0.01]         # Confidence threshold used for determining if attention from the ContextBuilder can be used, in paper this was 0.2\n",
    "        }\n",
    "    Epochs = 50\n",
    "\n",
    "\n",
    "########################################################################\n",
    "#                             Loading data                             #\n",
    "########################################################################\n",
    "\n",
    "# define dictionary of parameters\n",
    "\n",
    "\n",
    "# Create preprocessor\n",
    "preprocessor = Preprocessor(\n",
    "    length  = context_length,    # 10 events in context\n",
    "    timeout = 86400, # Ignore events older than 1 day (60*60*24 = 86400 seconds)\n",
    ")\n",
    "\n",
    "# Load data from file\n",
    "fox_alerts = '../../../datasets/ait_alerts_csv/alerts_csv/fox_alerts.txt'\n",
    "harrison_alerts = '../../../datasets/ait_alerts_csv/alerts_csv/harrison_alerts.txt'\n",
    "russellmitchell_alerts = '../../../datasets/ait_alerts_csv/alerts_csv/russellmitchell_alerts.txt'\n",
    "santos_alerts = '../../../datasets/ait_alerts_csv/alerts_csv/santos_alerts.txt'\n",
    "shaw_alerts = '../../../datasets/ait_alerts_csv/alerts_csv/shaw_alerts.txt'\n",
    "wardbeck_alerts = '../../../datasets/ait_alerts_csv/alerts_csv/wardbeck_alerts.txt'\n",
    "wheeler_alerts = '../../../datasets/ait_alerts_csv/alerts_csv/wheeler_alerts.txt'\n",
    "wilson_alerts = '../../../datasets/ait_alerts_csv/alerts_csv/wilson_alerts.txt'\n",
    "\n",
    "#context, events, mapping, mapping_label, labels  = preprocessor.text(fox_alerts)\n",
    "context, events,  mapping, mapping_label, labels = preprocessor.text(fox_alerts,harrison_alerts,russellmitchell_alerts,santos_alerts,shaw_alerts,wardbeck_alerts,wheeler_alerts,wilson_alerts)\n",
    "#context, events,  mapping, mapping_label, labels = preprocessor.text(fox_alerts,harrison_alerts,russellmitchell_alerts,santos_alerts,shaw_alerts,wardbeck_alerts,wheeler_alerts,wilson_alerts)\n",
    "#pdb.set_trace()\n",
    "events = torch.tensor(np.array(events))\n",
    "#labels = torch.tensor(np.array(labels))\n",
    "labels = torch.tensor(np.array(labels))\n",
    "\n",
    "# In case no labels are provided, set labels to -1\n",
    "# IMPORTANT: If no labels are provided, make sure to manually set the labels\n",
    "# before calling the interpreter.score_clusters method. Otherwise, this will\n",
    "# raise an exception, because scores == NO_SCORE cannot be computed.\n",
    "if labels is None:\n",
    "    labels = np.full(events.shape[0], -1, dtype=int)\n",
    "\n",
    "# Cast to cuda if available\n",
    "if torch.cuda.is_available():\n",
    "    events  = events.to('cuda')\n",
    "    context = context.to('cuda')\n",
    "\n",
    "\n",
    "    "
   ]
  },
  {
   "cell_type": "code",
   "execution_count": 2,
   "metadata": {},
   "outputs": [
    {
     "name": "stdout",
     "output_type": "stream",
     "text": [
      "the total number of samples: 380588\n",
      "the number of false positive: 357548\n",
      "the number of analomal samples: 23040 \n"
     ]
    }
   ],
   "source": [
    "print(f'the total number of samples: {len(labels)}')\n",
    "print(f'the number of false positive: {sum(labels==0)}')\n",
    "print(f'the number of analomal samples: {sum(labels==1)} ')"
   ]
  },
  {
   "cell_type": "code",
   "execution_count": 3,
   "metadata": {},
   "outputs": [
    {
     "data": {
      "image/png": "[encoded data removed]",
      "text/plain": [
       "<Figure size 640x480 with 1 Axes>"
      ]
     },
     "metadata": {},
     "output_type": "display_data"
    }
   ],
   "source": [
    "counter_bin = Counter(np.array(labels))\n",
    "labels_bin = list(counter_bin.keys())\n",
    "values_bin = list(counter_bin.values())\n",
    "\n",
    "plt.figure()\n",
    "plt.bar(labels_bin,values_bin,color='skyblue')\n",
    "plt.xlabel(\"Attack type\")\n",
    "plt.ylabel(\"Number of Samples\")\n",
    "plt.title(\"Number of Samples per Attack Type\")\n",
    "plt.show()\n"
   ]
  },
  {
   "cell_type": "code",
   "execution_count": 4,
   "metadata": {},
   "outputs": [],
   "source": [
    "########################################################################\n",
    "#                            Splitting data                            #\n",
    "########################################################################\n",
    "\n",
    "# # Split into train and test sets (20:80) by time - assuming events are ordered chronologically\n",
    "# events_test  = events [:events.shape[0]//5 ]\n",
    "# events_train   = events [ events.shape[0]//5:]\n",
    "\n",
    "# context_test = context[:events.shape[0]//5 ]\n",
    "# context_train  = context[ events.shape[0]//5:]\n",
    "\n",
    "# #labels_train  = labels [:events.shape[0]//5 ]\n",
    "# #labels_test   = labels [ events.shape[0]//5:]\n",
    "\n",
    "# labels_test_binary  = labels[:events.shape[0]//5 ]\n",
    "# labels_train_binary   = labels[ events.shape[0]//5:]\n",
    "\n",
    "context_train, context_test, labels_train_binary,labels_test_binary = train_test_split(context,labels,test_size=0.4,random_state=35)\n",
    "events_train , events_test ,                                        = train_test_split(events, test_size=0.4,random_state=35)\n"
   ]
  },
  {
   "cell_type": "code",
   "execution_count": 5,
   "metadata": {},
   "outputs": [
    {
     "name": "stderr",
     "output_type": "stream",
     "text": [
      "/home/jia/anaconda3/envs/mytorch1/lib/python3.9/site-packages/tqdm/auto.py:21: TqdmWarning: IProgress not found. Please update jupyter and ipywidgets. See https://ipywidgets.readthedocs.io/en/stable/user_install.html\n",
      "  from .autonotebook import tqdm as notebook_tqdm\n",
      "[Epoch 1/2 loss=0.016051]: 100%|██████████| 1784/1784 [00:33<00:00, 53.91it/s]\n",
      "[Epoch 2/2 loss=0.013431]: 100%|██████████| 1784/1784 [00:33<00:00, 53.69it/s]\n"
     ]
    },
    {
     "data": {
      "text/plain": [
       "ContextBuilder(\n",
       "  (embedding): Embedding(76, 128)\n",
       "  (embedding_one_hot): EmbeddingOneHot()\n",
       "  (encoder): Encoder(\n",
       "    (embedding): EmbeddingOneHot()\n",
       "    (recurrent): GRU(76, 128, batch_first=True)\n",
       "  )\n",
       "  (decoder_attention): DecoderAttention(\n",
       "    (embedding): Embedding(76, 128)\n",
       "    (recurrent): GRU(128, 128, batch_first=True)\n",
       "    (attn): Linear(in_features=128, out_features=50, bias=True)\n",
       "    (dropout): Dropout(p=0.1, inplace=False)\n",
       "  )\n",
       "  (decoder_event): DecoderEventTransformer(\n",
       "    (em): Sequential(\n",
       "      (0): Linear(in_features=76, out_features=128, bias=True)\n",
       "      (1): ReLU()\n",
       "    )\n",
       "    (transformer_layer): TransformerEncoderLayer(\n",
       "      (self_attn): MultiheadAttention(\n",
       "        (out_proj): NonDynamicallyQuantizableLinear(in_features=128, out_features=128, bias=True)\n",
       "      )\n",
       "      (linear1): Linear(in_features=128, out_features=2048, bias=True)\n",
       "      (dropout): Dropout(p=0.1, inplace=False)\n",
       "      (linear2): Linear(in_features=2048, out_features=128, bias=True)\n",
       "      (norm1): LayerNorm((128,), eps=1e-05, elementwise_affine=True)\n",
       "      (norm2): LayerNorm((128,), eps=1e-05, elementwise_affine=True)\n",
       "      (dropout1): Dropout(p=0.1, inplace=False)\n",
       "      (dropout2): Dropout(p=0.1, inplace=False)\n",
       "    )\n",
       "    (transformer): TransformerEncoder(\n",
       "      (layers): ModuleList(\n",
       "        (0-3): 4 x TransformerEncoderLayer(\n",
       "          (self_attn): MultiheadAttention(\n",
       "            (out_proj): NonDynamicallyQuantizableLinear(in_features=128, out_features=128, bias=True)\n",
       "          )\n",
       "          (linear1): Linear(in_features=128, out_features=2048, bias=True)\n",
       "          (dropout): Dropout(p=0.1, inplace=False)\n",
       "          (linear2): Linear(in_features=2048, out_features=128, bias=True)\n",
       "          (norm1): LayerNorm((128,), eps=1e-05, elementwise_affine=True)\n",
       "          (norm2): LayerNorm((128,), eps=1e-05, elementwise_affine=True)\n",
       "          (dropout1): Dropout(p=0.1, inplace=False)\n",
       "          (dropout2): Dropout(p=0.1, inplace=False)\n",
       "        )\n",
       "      )\n",
       "    )\n",
       "    (out): Linear(in_features=128, out_features=76, bias=True)\n",
       "    (dropout): Dropout(p=0.1, inplace=False)\n",
       "  )\n",
       ")"
      ]
     },
     "execution_count": 5,
     "metadata": {},
     "output_type": "execute_result"
    }
   ],
   "source": [
    "########################################################################\n",
    "#                         Using ContextBuilder                         #\n",
    "########################################################################\n",
    "\n",
    "vocab_size = len(np.unique(list(mapping)))\n",
    "# embed_size = 128\n",
    "# num_heads = 4\n",
    "# hidden_size = 256\n",
    "# num_layers = 4\n",
    "# num_classes = len(np.unique(labels.to('cpu')))\n",
    "# max_seq_length = 10\n",
    "# Create ContextBuilder\n",
    "\n",
    "### Context_builder contains: encoder, decoder_attention, decoder_event\n",
    "### Context_builder.predict() return: confidence, attention\n",
    "###                .query()   return: confidence, attention, inverse,confidence_orig, confidence_optim\n",
    "###                           query frozen encoder and optimize attention again\n",
    "context_builder = ContextBuilder(\n",
    "    input_size    = vocab_size,   # Number of input features to expect\n",
    "    output_size   = vocab_size,   # Same as input size\n",
    "    hidden_size   = 128,   # Number of nodes in hidden layer, in paper we set this to 128\n",
    "    max_length    = context_length,    # Length of the context, should be same as context in Preprocessor\n",
    ")\n",
    "\n",
    "# Cast to cuda if available\n",
    "if torch.cuda.is_available():\n",
    "    context_builder = context_builder.to('cuda')\n",
    "\n",
    "# Train the ContextBuilder\n",
    "context_builder.fit(\n",
    "    X             = context_train,               # Context to train with\n",
    "    y             = events_train.reshape(-1, 1), # Events to train with, note that these should be of shape=(n_events, 1)\n",
    "    labels        = labels_train_binary,\n",
    "    epochs        = Epochs,                          # Number of epochs to train with\n",
    "    batch_size    = 128,                         # Number of samples in each training batch, in paper this was 128\n",
    "    learning_rate = 0.001,                        # Learning rate to train with, in paper this was 0.01\n",
    "    verbose       = True,                        # If True, prints progress\n",
    ")\n"
   ]
  },
  {
   "cell_type": "code",
   "execution_count": null,
   "metadata": {},
   "outputs": [],
   "source": [
    "# Debugging part, Test the accuracy of the context builder.\n",
    "\n",
    "# if DEBUG:\n",
    "#     confidence_test, _ = context_builder.predict(context_test)\n",
    "#     predicted_test    = torch.argmax(confidence_test.squeeze(1),dim=1).to('cpu').numpy()\n",
    "\n",
    "#     events_test_np = events_test.to('cpu').numpy()\n",
    "\n",
    "#     with open(\"output.txt\", \"a\") as f:\n",
    "#         print(classification_report(events_test_np, predicted_test,digits=4),file=f)\n",
    "\n",
    "\n"
   ]
  },
  {
   "cell_type": "code",
   "execution_count": 6,
   "metadata": {},
   "outputs": [
    {
     "name": "stderr",
     "output_type": "stream",
     "text": [
      "Optimizing query: 100%|██████████| 18900/18900 [03:42<00:00, 84.95it/s] \n",
      "Clustering: 100%|██████████| 20/20 [00:21<00:00,  1.06s/it]\n"
     ]
    }
   ],
   "source": [
    "########################################################################\n",
    "#                          Using Interpreter                           #\n",
    "########################################################################\n",
    "\n",
    "# Create Interpreter\n",
    "### Interpreter contains: context_builder, features(int), eps, min_samples, threshold\n",
    "###                       self.clusters = np.zeros(0)\n",
    "###                       self.vectors  = np.zeros((0,self.features))\n",
    "###                       self.events   = np.zeros(0)\n",
    "###                       self.tree     = dict()\n",
    "###                       self.labels   = dict()\n",
    "###             functions:\n",
    "###                       cluster() return: clusters: np.array of shape=(n_samples,)\n",
    "###                       score_clusters() return: np.array of shape=(n_sample), Score for individual sequences computed using clustering \\\n",
    "###                                        strategy. All datapoints within a cluster are guaranteed to have the same score\n",
    "###                       fit(): is a wrapper calls functions: cluster(), score_cluster(), score()\n",
    "interpreter = Interpreter(\n",
    "    context_builder = context_builder, # ContextBuilder used to fit data\n",
    "    features        = 100,             # Number of input features to expect, should be same as ContextBuilder\n",
    "    eps             = 0.1,             # Epsilon value to use for DBSCAN clustering, in paper this was 0.1  # try 0.2 Jia\n",
    "    min_samples     = 101,               # Minimum number of samples to use for DBSCAN clustering, in paper this was 5\n",
    "    threshold       = 0.2,             # Confidence threshold used for determining if attention from the ContextBuilder can be used, in paper this was 0.2\n",
    ")\n",
    "\n",
    "# Cluster samples with the interpreter\n",
    "clusters = interpreter.cluster(\n",
    "    X          = context_train,               # Context to train with\n",
    "    y          = events_train.reshape(-1, 1), # Events to train with, note that these should be of shape=(n_events, 1)\n",
    "    iterations = 100,                         # Number of iterations to use for attention query, in paper this was 100\n",
    "    batch_size = 1024,                        # Batch size to use for attention query, used to limit CUDA memory usage\n",
    "    verbose    = True,                        # If True, prints progress\n",
    ")"
   ]
  },
  {
   "cell_type": "code",
   "execution_count": 7,
   "metadata": {},
   "outputs": [
    {
     "name": "stderr",
     "output_type": "stream",
     "text": [
      "Scoring: 100%|██████████| 8/8 [00:04<00:00,  1.60it/s]\n"
     ]
    },
    {
     "data": {
      "text/plain": [
       "<deepcase.interpreter.interpreter.Interpreter at 0x7f50966e77c0>"
      ]
     },
     "execution_count": 7,
     "metadata": {},
     "output_type": "execute_result"
    }
   ],
   "source": [
    "########################################################################\n",
    "#                             Manual mode                              #\n",
    "########################################################################\n",
    "\n",
    "# Compute scores for each cluster based on individual labels per sequence\n",
    "scores = interpreter.score_clusters(\n",
    "    scores   = labels_train_binary, # Labels used to compute score (either as loaded by Preprocessor, or put your own labels here)\n",
    "    strategy = \"min\",        # Strategy to use for scoring (one of \"max\", \"min\", \"avg\")\n",
    "    NO_SCORE = -1,           # Any sequence with this score will be ignored in the strategy.\n",
    "                                # If assigned a cluster, the sequence will inherit the cluster score.\n",
    "                                # If the sequence is not present in a cluster, it will receive a score of NO_SCORE.\n",
    ")\n",
    "\n",
    "# Assign scores to clusters in interpreter\n",
    "# Note that all sequences should be given a score and each sequence in the\n",
    "# same cluster should have the same score.\n",
    "interpreter.score(\n",
    "    scores  = scores, # Scores to assign to sequences\n",
    "    verbose = True,   # If True, prints progress\n",
    ")\n"
   ]
  },
  {
   "cell_type": "code",
   "execution_count": null,
   "metadata": {},
   "outputs": [],
   "source": [
    "########################################################################\n",
    "#                        (Semi-)Automatic mode                         #\n",
    "########################################################################\n",
    "\n",
    "#Compute predicted scores\n",
    "prediction, indexIntraining = interpreter.predict(\n",
    "    X          = context_test,               # Context to predict\n",
    "    y          = events_test.reshape(-1, 1), # Events to predict, note that these should be of shape=(n_events, 1)\n",
    "    iterations = 100,                        # Number of iterations to use for attention query, in paper this was 100\n",
    "    batch_size = 1024,                       # Batch size to use for attention query, used to limit CUDA memory usage\n",
    "    verbose    = True,                       # If True, prints progress\n",
    ")\n",
    "\n",
    "#Compute the accuracy\n",
    "\n",
    "\n",
    "#pdb.set_trace()\n",
    "mask_p_n = np.where((prediction ==0) | (prediction ==1))[0]\n",
    "result_predicted = prediction[mask_p_n]\n",
    "labels_test_bin = labels_test_binary[mask_p_n]\n",
    "with open(\"output.txt\", \"a\") as f:\n",
    "    print(classification_report(labels_test_bin, result_predicted,digits=4,zero_division=0.0),file=f)\n",
    "    print(f'the total number of samples: {prediction.shape[0]}', file=f)\n",
    "    print(f'the number of predicted  samples: {sum(prediction ==1)+sum(prediction ==0)}',file=f)\n",
    "    print(f'the percentage of predicted samples:{(sum(prediction ==1)+sum(prediction ==0))/prediction.shape[0]}',file=f)\n",
    "    print(f'the number of samples that can not predicted automatically:{prediction.shape[0]-sum(prediction ==1)-sum(prediction ==0)}',file=f)\n",
    "    print(f'the number of predicted positive samples: {sum(prediction ==1)}',file=f)\n",
    "    print(f'the number of predicted negative samples:{sum(prediction ==0)}',file=f)\n",
    "    print(50 *'*',file=f)\n"
   ]
  },
  {
   "cell_type": "code",
   "execution_count": null,
   "metadata": {},
   "outputs": [],
   "source": [
    "print(classification_report(labels_test_bin, result_predicted,digits=4,zero_division=0.0))\n",
    "print(f'the total number of samples: {prediction.shape[0]}')\n",
    "print(f'the number of predicted  samples: {sum(prediction ==1)+sum(prediction ==0)}')\n",
    "print(f'the percentage of predicted samples:{(sum(prediction ==1)+sum(prediction ==0))/prediction.shape[0]}')\n",
    "print(f'the number of samples that can not predicted automatically:{prediction.shape[0]-sum(prediction ==1)-sum(prediction ==0)}')\n",
    "print(f'the number of predicted positive samples: {sum(prediction ==1)}')\n",
    "print(f'the number of predicted false positive samples:{sum(prediction ==0)}')\n",
    "print(50 *'*')"
   ]
  },
  {
   "cell_type": "code",
   "execution_count": null,
   "metadata": {},
   "outputs": [],
   "source": [
    "# result_new = np.full_like(result_predicted,5)\n",
    "# for i in range(len(result_predicted)):\n",
    "#     if result_predicted[i] == 0:\n",
    "#         result_new[i] =1\n",
    "#     elif result_predicted[i] ==1:\n",
    "#         result_new[i] =0\n",
    "\n",
    "print(classification_report(labels_test_bin,result_predicted,digits=4))"
   ]
  },
  {
   "cell_type": "code",
   "execution_count": null,
   "metadata": {},
   "outputs": [],
   "source": [
    "#np_labels_test_binary=np.array(labels_test_bin)\n",
    "num_label_false_positive = sum(labels_test_bin == 0)\n",
    "num_label_alarm          = sum(labels_test_bin == 1)\n",
    "num_pred_false_positive  = sum(result_predicted   == 0)\n",
    "num_pred_alarm           = sum(result_predicted   == 1)\n"
   ]
  },
  {
   "cell_type": "code",
   "execution_count": 1,
   "metadata": {},
   "outputs": [
    {
     "ename": "NameError",
     "evalue": "name 'labels_test_bin' is not defined",
     "output_type": "error",
     "traceback": [
      "\u001b[0;31m---------------------------------------------------------------------------\u001b[0m",
      "\u001b[0;31mNameError\u001b[0m                                 Traceback (most recent call last)",
      "Cell \u001b[0;32mIn[1], line 4\u001b[0m\n\u001b[1;32m      1\u001b[0m \u001b[38;5;66;03m# Draw confusion matrix\u001b[39;00m\n\u001b[1;32m      2\u001b[0m \u001b[38;5;28;01mfrom\u001b[39;00m \u001b[38;5;21;01msklearn\u001b[39;00m\u001b[38;5;21;01m.\u001b[39;00m\u001b[38;5;21;01mmetrics\u001b[39;00m \u001b[38;5;28;01mimport\u001b[39;00m confusion_matrix, ConfusionMatrixDisplay\n\u001b[0;32m----> 4\u001b[0m cm \u001b[38;5;241m=\u001b[39m confusion_matrix(\u001b[43mlabels_test_bin\u001b[49m,result_predicted )\n\u001b[1;32m      5\u001b[0m accuracy_per_class \u001b[38;5;241m=\u001b[39m cm\u001b[38;5;241m.\u001b[39mdiagonal() \u001b[38;5;241m/\u001b[39m cm\u001b[38;5;241m.\u001b[39msum(axis\u001b[38;5;241m=\u001b[39m\u001b[38;5;241m1\u001b[39m)\n\u001b[1;32m      6\u001b[0m disp \u001b[38;5;241m=\u001b[39m ConfusionMatrixDisplay(confusion_matrix\u001b[38;5;241m=\u001b[39mcm)\n",
      "\u001b[0;31mNameError\u001b[0m: name 'labels_test_bin' is not defined"
     ]
    }
   ],
   "source": [
    "# Draw confusion matrix\n",
    "from sklearn.metrics import confusion_matrix, ConfusionMatrixDisplay\n",
    "\n",
    "cm = confusion_matrix(labels_test_bin,result_predicted )\n",
    "accuracy_per_class = cm.diagonal() / cm.sum(axis=1)\n",
    "disp = ConfusionMatrixDisplay(confusion_matrix=cm)\n",
    "disp.plot(cmap=plt.cm.Blues)\n",
    "plt.title(\"Confusion Matrix\")\n",
    "plt.show()"
   ]
  },
  {
   "cell_type": "code",
   "execution_count": null,
   "metadata": {},
   "outputs": [],
   "source": [
    "# The distribution of predicted labels\n",
    "import matplotlib.pyplot as plt \n",
    "\n",
    "labels = ['0','1']\n",
    "values = [num_pred_false_positive, num_pred_alarm]\n",
    "#plt.figure(figsize=(8,6))\n",
    "plt.figure()\n",
    "bars = plt.bar(labels, values,color=['blue','green'])\n",
    "plt.legend(bars,['number of FP', 'number of Alarm'])\n",
    "plt.title(\"The distribution of the predicted labels\")\n",
    "plt.show()"
   ]
  },
  {
   "cell_type": "code",
   "execution_count": null,
   "metadata": {},
   "outputs": [],
   "source": [
    "# The distribution of true labels\n",
    "import matplotlib.pyplot as plt \n",
    "\n",
    "labels = ['0','1']\n",
    "values = [num_label_false_positive, num_label_alarm]\n",
    "#plt.figure(figsize=(8,6))\n",
    "plt.figure()\n",
    "bars = plt.bar(labels, values,color=['blue','green'])\n",
    "plt.legend(bars,['number of FP', 'number of Alarm'])\n",
    "plt.title(\"The distribution of true labels\")\n",
    "plt.show()"
   ]
  },
  {
   "cell_type": "code",
   "execution_count": null,
   "metadata": {},
   "outputs": [],
   "source": [
    "# Analysis the dataset. The distribution of attack types and events\n",
    "import pandas as pd\n",
    "import matplotlib.pyplot as plt\n",
    "from collections import Counter\n",
    "\n",
    "data = Preprocessor.read_csv_files(fox_alerts,harrison_alerts,russellmitchell_alerts,santos_alerts,shaw_alerts,wardbeck_alerts,wheeler_alerts,wilson_alerts)\n",
    "#data = pd.read_csv(fox_alerts)\n",
    "\n",
    "data_labels = data['time_label']\n",
    "counter_labels = Counter(data_labels)\n",
    "labels_attack = list(counter_labels.keys())\n",
    "values_attack = list(counter_labels.values())\n",
    "\n",
    "mapping_attack = {i:a for i, a in enumerate(labels_attack)}\n",
    "labels_attack_id = mapping_attack.keys()\n",
    "\n",
    "events =data['short']\n",
    "counter_events = Counter(events)\n",
    "labels_events = list(counter_events.keys())\n",
    "values_events = list(counter_events.values())\n",
    "\n",
    "mapping_events= {i:l for i,l in enumerate(labels_events)}\n",
    "labels_events_id = mapping_events.keys()\n",
    "info_text = '\\n'.join([f\"{key}:{value}\" for key, value in mapping_events.items()])\n",
    "\n",
    "fig,(ax1,ax2) = plt.subplots(2,1, figsize=(8,10))\n",
    "\n",
    "ax1.bar(labels_attack_id,values_attack,color='skyblue')\n",
    "ax1.set_xlabel('Attack types')\n",
    "ax1.set_ylabel('No. of Samples')\n",
    "ax1.set_title('Distribution of Attacks')\n",
    "# ax1.text(0.95, 0.95, info_text, \n",
    "#          horizontalalignment='right', \n",
    "#          verticalalignment='top', \n",
    "#          transform=plt.gca().transAxes,\n",
    "#          bbox=dict(facecolor='white', alpha=0.5))\n",
    "\n",
    "ax2.bar(labels_events_id,values_events,color='skyblue')\n",
    "ax2.set_xlabel('events types')\n",
    "ax2.set_ylabel('No. of Samples')\n",
    "ax2.set_title('Distribution of Events')\n",
    "\n",
    "#plt.tight_layout()\n",
    "plt.show()\n",
    "\n",
    "\n",
    "\n",
    "# plt.figure(figsize=(10,6))\n",
    "# plt.bar(labels_attack,values_attack,color='skyblue')\n",
    "# plt.xlabel(\"Attack type\")\n",
    "# plt.ylabel(\"Number of Samples\")\n",
    "# plt.title(\"Number of Samples per Attack Type\")\n",
    "# plt.show()\n"
   ]
  },
  {
   "cell_type": "code",
   "execution_count": null,
   "metadata": {},
   "outputs": [],
   "source": [
    "# Choose the hyper parameters of DBSCAN algorithm\n",
    "\n",
    "# Get optimized vectors\n",
    "vectors, mask = interpreter.attended_context(\n",
    "    X                = context_test,\n",
    "    y                = events_test.reshape(-1, 1),\n",
    "    threshold        = 0.2,\n",
    "    iterations       = 100,\n",
    "    batch_size       = 1024,\n",
    "    verbose          = True,\n",
    ")\n",
    "\n"
   ]
  },
  {
   "cell_type": "code",
   "execution_count": null,
   "metadata": {},
   "outputs": [],
   "source": [
    "import numpy as np\n",
    "from sklearn.neighbors import NearestNeighbors\n",
    "import matplotlib.pyplot as plt\n",
    "\n",
    "k=200\n",
    "nn = NearestNeighbors(n_neighbors=k)\n",
    "nn.fit(vectors)\n",
    "distances,_ = nn.kneighbors(vectors)\n",
    "distances   = np.sort(distances[:,k-1],axis=0)\n",
    "plt.plot(distances)\n",
    "plt.ylabel(f'{k}-distance')\n",
    "plt.xlabel('Points sorted by distance')"
   ]
  },
  {
   "cell_type": "code",
   "execution_count": null,
   "metadata": {},
   "outputs": [],
   "source": [
    "import pandas as pd\n",
    "\n",
    "fox_alerts = '../../../datasets/ait_alerts_csv/alerts_csv/fox_alerts.txt'\n",
    "data = pd.read_csv(fox_alerts,sep=',')\n",
    "data = data.drop_duplicates(subset=['time','ip','short'])\n",
    "data.shape\n",
    "\n"
   ]
  },
  {
   "cell_type": "code",
   "execution_count": null,
   "metadata": {},
   "outputs": [],
   "source": [
    "ip = '172.17.131.81'\n",
    "data_1 = data[data['ip'] == ip]"
   ]
  },
  {
   "cell_type": "code",
   "execution_count": null,
   "metadata": {},
   "outputs": [],
   "source": [
    "data_u = data.drop_duplicates(subset=['time','ip'])"
   ]
  },
  {
   "cell_type": "code",
   "execution_count": null,
   "metadata": {},
   "outputs": [],
   "source": [
    "data_u[0:30]"
   ]
  },
  {
   "cell_type": "code",
   "execution_count": null,
   "metadata": {},
   "outputs": [],
   "source": [
    "data_u[30:60]"
   ]
  },
  {
   "cell_type": "code",
   "execution_count": null,
   "metadata": {},
   "outputs": [],
   "source": [
    "import ollama\n",
    "response = ollama.chat(model='llama3.1', messages=[\n",
    "  {\n",
    "    'role': 'user',\n",
    "    'content': 'Why is the sky blue?',\n",
    "  },\n",
    "])\n",
    "print(response['message']['content'])"
   ]
  }
 ],
 "metadata": {
  "kernelspec": {
   "display_name": "Python 3.9.19 ('mytorch1')",
   "language": "python",
   "name": "python3"
  },
  "language_info": {
   "codemirror_mode": {
    "name": "ipython",
    "version": 3
   },
   "file_extension": ".py",
   "mimetype": "text/x-python",
   "name": "python",
   "nbconvert_exporter": "python",
   "pygments_lexer": "ipython3",
   "version": "3.9.19"
  },
  "orig_nbformat": 4,
  "vscode": {
   "interpreter": {
    "hash": "5661b7e36a53110a99ebc4525200c7d03909fe5487ce7ebd9c6e1792b76c4f8d"
   }
  }
 },
 "nbformat": 4,
 "nbformat_minor": 2
}
