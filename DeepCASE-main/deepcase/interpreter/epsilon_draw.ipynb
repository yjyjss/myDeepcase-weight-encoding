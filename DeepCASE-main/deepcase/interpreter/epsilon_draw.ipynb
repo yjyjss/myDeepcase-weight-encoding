{
 "cells": [
  {
   "cell_type": "code",
   "execution_count": null,
   "metadata": {},
   "outputs": [],
   "source": [
    "import numpy as np\n",
    "from sklearn.neighbors import NearestNeighbors\n",
    "import matplotlib.pyplot as plt\n"
   ]
  },
  {
   "cell_type": "code",
   "execution_count": null,
   "metadata": {},
   "outputs": [],
   "source": [
    "def plot_k_distance(data, k):\n",
    "    nn = NearestNeighbors(n_neighbors=k)\n",
    "    nn.fit(data)\n",
    "    distances,_ = nn.kneighbors(data)\n",
    "    distances   = np.sort(distances[:,k-1],axis=0)\n",
    "    plt.plot(distances)\n",
    "    plt.ylabel(f'{k}-distance')\n",
    "    plt.xlabel('Points sorted by distance')"
   ]
  },
  {
   "cell_type": "code",
   "execution_count": null,
   "metadata": {},
   "outputs": [],
   "source": [
    "plot_k_distance(data,4)"
   ]
  }
 ],
 "metadata": {
  "kernelspec": {
   "display_name": "Python 3.9.13 ('mytorch')",
   "language": "python",
   "name": "python3"
  },
  "language_info": {
   "name": "python",
   "version": "3.9.13"
  },
  "orig_nbformat": 4,
  "vscode": {
   "interpreter": {
    "hash": "56517d50ffc2f6931aa24815f7589ff73dc285470d6e0b1ce709109592ee794e"
   }
  }
 },
 "nbformat": 4,
 "nbformat_minor": 2
}
